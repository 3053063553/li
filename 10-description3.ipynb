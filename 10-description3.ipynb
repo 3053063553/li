{
 "cells": [
  {
   "cell_type": "code",
   "execution_count": 11,
   "metadata": {},
   "outputs": [
    {
     "data": {
      "text/plain": [
       "'\\n数值变量的描述统计\\n\\n统计指标:\\n    \\n1.中值\\n2.平均值\\n3.方差\\n\\n可视化:\\n    \\n1.散点图\\n\\n'"
      ]
     },
     "execution_count": 11,
     "metadata": {},
     "output_type": "execute_result"
    }
   ],
   "source": [
    "\"\"\"\n",
    "数值变量的描述统计\n",
    "\n",
    "统计指标:\n",
    "    \n",
    "1.中值\n",
    "2.平均值\n",
    "3.方差\n",
    "\n",
    "可视化:\n",
    "    \n",
    "1.散点图\n",
    "\n",
    "\"\"\"   \n",
    "\n",
    "    \n",
    "    "
   ]
  },
  {
   "cell_type": "code",
   "execution_count": 12,
   "metadata": {},
   "outputs": [],
   "source": [
    "import mytools\n",
    "from pyreadstat import pyreadstat\n",
    "国家认同原始数据, meta = mytools.读取SPSS数据(R'identity.sav')\n",
    "df, metadata = pyreadstat.read_sav(r'identity.sav',apply_value_formats=False,formats_as_ordered_category=True)"
   ]
  },
  {
   "cell_type": "code",
   "execution_count": 13,
   "metadata": {},
   "outputs": [
    {
     "data": {
      "text/plain": [
       "(      问卷编号  调查员   民族 政治面貌   年级 典型中国人  中国人特点    v1    v2    v3  ... 会隐瞒身份吗  \\\n",
       " 0     21.0  黄明军   汉族   群众   大二   不太算    一般般   不同意   不同意  有点同意  ...    可能会   \n",
       " 1    851.0   乔玮   壮族   团员   大四   完全是   较有特点  完全同意  完全同意    同意  ...   绝对不会   \n",
       " 2    852.0   乔玮  土家族   团员   大四   可以算  非常有特点  有点同意    同意  有点同意  ...    可能会   \n",
       " 3    853.0   乔玮   回族   群众   大四   可以算  非常有特点  完全同意  完全同意  完全同意  ...   绝对不会   \n",
       " 4    854.0   乔玮  土家族   团员   大四   完全是   较有特点  完全同意  完全同意    同意  ...   绝对不会   \n",
       " ..     ...  ...  ...  ...  ...   ...    ...   ...   ...   ...  ...    ...   \n",
       " 900    NaN       NaN  NaN  NaN   NaN    NaN   NaN   NaN   NaN  ...    NaN   \n",
       " 901    NaN       NaN  NaN  NaN   NaN    NaN   NaN   NaN   NaN  ...    NaN   \n",
       " 902    NaN       NaN  NaN  NaN   NaN    NaN   NaN   NaN   NaN  ...    NaN   \n",
       " 903    NaN       NaN  NaN  NaN   NaN    NaN   NaN   NaN   NaN  ...    NaN   \n",
       " 904    NaN       NaN  NaN  NaN   NaN    NaN   NaN   NaN   NaN  ...    NaN   \n",
       " \n",
       "      会打多少分  国歌升起   世博会     中国传统文化   发展信心 你会为中国运动员呐喊助威 遇到灾难时中国人应该伸出援手  \\\n",
       " 0    四十到六十   没感觉    一般  富有内涵，意义深刻    没信心      大多数情况下会            不一定   \n",
       " 1    八十到一百  比较激动   比较好  富有内涵，意义深刻  担忧不好说      大多数情况下会            很赞同   \n",
       " 2    八十到一百  比较激动   比较好  富有内涵，意义深刻    没信心          肯定会            不一定   \n",
       " 3    四十到六十    一般  感到自豪  富有内涵，意义深刻  担忧不好说          肯定会             赞同   \n",
       " 4    八十到一百  比较激动  感到自豪  富有内涵，意义深刻   很有信心          肯定会            很赞同   \n",
       " ..     ...   ...   ...        ...    ...          ...            ...   \n",
       " 900    NaN   NaN   NaN        NaN    NaN          NaN            NaN   \n",
       " 901    NaN   NaN   NaN        NaN    NaN          NaN            NaN   \n",
       " 902    NaN   NaN   NaN        NaN    NaN          NaN            NaN   \n",
       " 903    NaN   NaN   NaN        NaN    NaN          NaN            NaN   \n",
       " 904    NaN   NaN   NaN        NaN    NaN          NaN            NaN   \n",
       " \n",
       "     你愿意加入其他国籍吗 中国人要为祖国统一奋斗吗  \n",
       " 0        做外籍华人          不赞同  \n",
       " 1           其他          很赞同  \n",
       " 2        做外籍华人           赞同  \n",
       " 3        做外籍华人           赞同  \n",
       " 4        做外籍华人          很赞同  \n",
       " ..         ...          ...  \n",
       " 900        NaN          NaN  \n",
       " 901        NaN          NaN  \n",
       " 902        NaN          NaN  \n",
       " 903        NaN          NaN  \n",
       " 904        NaN          NaN  \n",
       " \n",
       " [905 rows x 28 columns],\n",
       " <pyreadstat._readstat_parser.metadata_container at 0x26cbc671b50>)"
      ]
     },
     "execution_count": 13,
     "metadata": {},
     "output_type": "execute_result"
    }
   ],
   "source": [
    "mytools.读取SPSS数据(R'identity.sav')"
   ]
  },
  {
   "cell_type": "code",
   "execution_count": 14,
   "metadata": {},
   "outputs": [],
   "source": [
    "import mytools\n",
    "国家认同原始数据,meta = mytools.读取SPSS数据(R'identity.sav')"
   ]
  },
  {
   "cell_type": "code",
   "execution_count": 15,
   "metadata": {},
   "outputs": [],
   "source": [
    "国家认同原始数据,meta = mytools.读取SPSS数据(R'identity.sav')"
   ]
  },
  {
   "cell_type": "code",
   "execution_count": 16,
   "metadata": {},
   "outputs": [],
   "source": [
    "import  pandas as pd\n",
    "import  mytools\n",
    "from pyreadstat import pyreadstat\n",
    "国家认同原始表, metadata = pyreadstat.read_sav(r'identity.sav',\n",
    "apply_value_formats=True,formats_as_ordered_category=True)"
   ]
  },
  {
   "cell_type": "code",
   "execution_count": 17,
   "metadata": {},
   "outputs": [
    {
     "data": {
      "text/plain": [
       "0      一般般\n",
       "1       挺好\n",
       "2       挺好\n",
       "3       挺好\n",
       "4      十分棒\n",
       "      ... \n",
       "900    NaN\n",
       "901    NaN\n",
       "902    NaN\n",
       "903    NaN\n",
       "904    NaN\n",
       "Name: 您觉得中国怎么样, Length: 905, dtype: category\n",
       "Categories (5, object): ['很差劲' < '较差' < '一般般' < '挺好' < '十分棒']"
      ]
     },
     "execution_count": 17,
     "metadata": {},
     "output_type": "execute_result"
    }
   ],
   "source": [
    "国家认同原始数据.您觉得中国怎么样"
   ]
  },
  {
   "cell_type": "code",
   "execution_count": 18,
   "metadata": {},
   "outputs": [],
   "source": [
    "df['自豪感'] = df.您觉得中国怎么样 + df.您认为中国有多少值得自豪的地方"
   ]
  },
  {
   "cell_type": "code",
   "execution_count": 19,
   "metadata": {},
   "outputs": [
    {
     "data": {
      "text/plain": [
       "8.0"
      ]
     },
     "execution_count": 19,
     "metadata": {},
     "output_type": "execute_result"
    }
   ],
   "source": [
    "df['自豪感'].median()"
   ]
  },
  {
   "cell_type": "code",
   "execution_count": 20,
   "metadata": {},
   "outputs": [
    {
     "data": {
      "text/plain": [
       "7.6"
      ]
     },
     "execution_count": 20,
     "metadata": {},
     "output_type": "execute_result"
    }
   ],
   "source": [
    "df['自豪感'].mean()"
   ]
  },
  {
   "cell_type": "code",
   "execution_count": 21,
   "metadata": {},
   "outputs": [
    {
     "data": {
      "text/plain": [
       "<bound method NDFrame._add_numeric_operations.<locals>.std of 0       8.0\n",
       "1       8.0\n",
       "2       8.0\n",
       "3       8.0\n",
       "4      10.0\n",
       "       ... \n",
       "900     NaN\n",
       "901     NaN\n",
       "902     NaN\n",
       "903     NaN\n",
       "904     NaN\n",
       "Name: 自豪感, Length: 905, dtype: float64>"
      ]
     },
     "execution_count": 21,
     "metadata": {},
     "output_type": "execute_result"
    }
   ],
   "source": [
    "df['自豪感'].std"
   ]
  },
  {
   "cell_type": "code",
   "execution_count": 22,
   "metadata": {},
   "outputs": [],
   "source": [
    "result = df['自豪感'].describe()"
   ]
  },
  {
   "cell_type": "code",
   "execution_count": 23,
   "metadata": {},
   "outputs": [
    {
     "data": {
      "text/plain": [
       "7.6"
      ]
     },
     "execution_count": 23,
     "metadata": {},
     "output_type": "execute_result"
    }
   ],
   "source": [
    "result['mean']"
   ]
  },
  {
   "cell_type": "code",
   "execution_count": 24,
   "metadata": {},
   "outputs": [
    {
     "data": {
      "text/plain": [
       "count    865.000000\n",
       "mean       7.600000\n",
       "std        1.558133\n",
       "min        2.000000\n",
       "25%        7.000000\n",
       "50%        8.000000\n",
       "75%        8.000000\n",
       "max       10.000000\n",
       "Name: 自豪感, dtype: float64"
      ]
     },
     "execution_count": 24,
     "metadata": {},
     "output_type": "execute_result"
    }
   ],
   "source": [
    "mytools.数值变量描述统计(df,'自豪感')"
   ]
  }
 ],
 "metadata": {
  "kernelspec": {
   "display_name": "Python 3",
   "language": "python",
   "name": "python3"
  },
  "language_info": {
   "codemirror_mode": {
    "name": "ipython",
    "version": 3
   },
   "file_extension": ".py",
   "mimetype": "text/x-python",
   "name": "python",
   "nbconvert_exporter": "python",
   "pygments_lexer": "ipython3",
   "version": "3.8.10"
  }
 },
 "nbformat": 4,
 "nbformat_minor": 2
}
