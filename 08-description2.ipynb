{
 "cells": [
  {
   "cell_type": "code",
   "execution_count": 28,
   "metadata": {},
   "outputs": [],
   "source": [
    "import pandas as pd\n",
    "from pyreadstat import pyreadstat\n",
    "df, metadata = pyreadstat.read_sav(r'identity.sav',\n",
    "apply_value_formats=True,formats_as_ordered_category=True)"
   ]
  },
  {
   "cell_type": "code",
   "execution_count": 34,
   "metadata": {},
   "outputs": [
    {
     "data": {
      "text/plain": [
       "CategoricalIndex(['零到二十', '20~40', '四十到六十', '六十到八十', '八十到一百'], categories=['零到二十', '20~40', '四十到六十', '六十到八十', '八十到一百'], ordered=True, dtype='category', name='会打多少分')"
      ]
     },
     "execution_count": 34,
     "metadata": {},
     "output_type": "execute_result"
    }
   ],
   "source": [
    "result=df['会打多少分'].value_counts(sort=False)\n"
   ]
  },
  {
   "cell_type": "code",
   "execution_count": 32,
   "metadata": {},
   "outputs": [],
   "source": [
    "result = df['会打多少分'].value_counts(sort=False)\n",
    "df_result = pd.DataFrame(result)\n",
    "sum=df_result['count'].sum()\n",
    "df_result['比例']=df_result['count']/sum\n",
    "df_result['累计比例']=df_result['比例'].cumsum"
   ]
  },
  {
   "cell_type": "code",
   "execution_count": 33,
   "metadata": {},
   "outputs": [],
   "source": [
    "result = df['会打多少分'].value_counts(sort=False)\n",
    "df_result = pd.DataFrame(result)\n",
    "df_result['累计求和'] =result.values.cumsum()"
   ]
  },
  {
   "cell_type": "code",
   "execution_count": 40,
   "metadata": {},
   "outputs": [],
   "source": [
    "result=df['会打多少分'].value_counts(sort=False)\n",
    "描述统计表=pd.DataFrame(result)\n",
    "描述统计表['比例']=描述统计表['count']/描述统计表['count'].sum()\n",
    "描述统计表['累计比例']=描述统计表['比例'].cumsum()"
   ]
  },
  {
   "cell_type": "code",
   "execution_count": 41,
   "metadata": {},
   "outputs": [],
   "source": [
    "def 有序类别变量描述统计函数(表名,变量名):\n",
    "    result=表名[变量名].value_counts(sort=False)\n",
    "    描述统计表=pd.DataFrame(result)\n",
    "    描述统计表['比例']=描述统计表['count']/描述统计表['count'].sum()\n",
    "    描述统计表['累计比例']=描述统计表['比例'].cumsum()\n",
    "    return 描述统计表"
   ]
  }
 ],
 "metadata": {
  "kernelspec": {
   "display_name": "Python 3",
   "language": "python",
   "name": "python3"
  },
  "language_info": {
   "codemirror_mode": {
    "name": "ipython",
    "version": 3
   },
   "file_extension": ".py",
   "mimetype": "text/x-python",
   "name": "python",
   "nbconvert_exporter": "python",
   "pygments_lexer": "ipython3",
   "version": "3.8.10"
  }
 },
 "nbformat": 4,
 "nbformat_minor": 2
}
