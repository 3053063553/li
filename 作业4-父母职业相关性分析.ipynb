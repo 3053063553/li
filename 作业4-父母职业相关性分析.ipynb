{
 "cells": [
  {
   "cell_type": "code",
   "execution_count": 59,
   "metadata": {},
   "outputs": [],
   "source": [
    "#导入各种需要的包\n",
    "import pandas as pd\n",
    "from pyreadstat import pyreadstat\n",
    "import matplotlib.pyplot as plt"
   ]
  },
  {
   "cell_type": "code",
   "execution_count": 60,
   "metadata": {},
   "outputs": [],
   "source": [
    "#打开数据文件\n",
    "列名列表 = ['父亲工作','父亲职业重新编码','母亲工作','母亲职业重新编码']\n",
    "\n",
    "df1 = pd.read_csv('类别变量练习数据.csv',encoding='GBK',usecols=列名列表)"
   ]
  },
  {
   "cell_type": "code",
   "execution_count": 63,
   "metadata": {},
   "outputs": [
    {
     "data": {
      "text/plain": [
       "0.20873444873444852"
      ]
     },
     "execution_count": 63,
     "metadata": {},
     "output_type": "execute_result"
    }
   ],
   "source": [
    "tau_y = mytools.goodmanKruska_tau_y(df1,'父亲职业重新编码','母亲职业重新编码')\n",
    "tau_y"
   ]
  },
  {
   "cell_type": "code",
   "execution_count": 64,
   "metadata": {},
   "outputs": [
    {
     "data": {
      "text/plain": [
       "'弱相关'"
      ]
     },
     "execution_count": 64,
     "metadata": {},
     "output_type": "execute_result"
    }
   ],
   "source": [
    "#评价tauy\n",
    "mytools.相关系数强弱判断(tau_y)"
   ]
  },
  {
   "cell_type": "code",
   "execution_count": 65,
   "metadata": {},
   "outputs": [],
   "source": [
    "import pandas as pd\n",
    "import matplotlib.pyplot as plt\n",
    "\n",
    "def plot_variable_pie(data_table,variable):\n",
    "    #准备绘图数据\n",
    "    data =data_table[variable].value_counts()\n",
    "    \n",
    "    #创建饼图\n",
    "    fig1,ax1=plt.subplots()\n",
    "    ax1.pie(data,labels=data.index,autopct='%1.1f%%')\n",
    "    ax1.axis('equal')#Equal aspect ratio ensure that pie is draw as a circle.\n",
    "    \n",
    "    plt.show()"
   ]
  }
 ],
 "metadata": {
  "kernelspec": {
   "display_name": "Python 3",
   "language": "python",
   "name": "python3"
  },
  "language_info": {
   "codemirror_mode": {
    "name": "ipython",
    "version": 3
   },
   "file_extension": ".py",
   "mimetype": "text/x-python",
   "name": "python",
   "nbconvert_exporter": "python",
   "pygments_lexer": "ipython3",
   "version": "3.8.10"
  }
 },
 "nbformat": 4,
 "nbformat_minor": 2
}
